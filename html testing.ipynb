{
 "cells": [
  {
   "cell_type": "code",
   "execution_count": 2,
   "id": "8d71f4fc",
   "metadata": {},
   "outputs": [],
   "source": [
    "#Import the necessary packages\n",
    "\n",
    "from astropy.table import Table\n",
    "from matplotlib import pyplot as plt\n",
    "%matplotlib inline\n",
    "import os\n",
    "import numpy as np\n",
    "from astropy.io.ascii import masked\n",
    "\n",
    "import warnings\n",
    "warnings.filterwarnings('ignore')\n",
    "\n",
    "mycolors = plt.rcParams['axes.prop_cycle'].by_key()['color']"
   ]
  },
  {
   "cell_type": "code",
   "execution_count": 3,
   "id": "f572adf9",
   "metadata": {},
   "outputs": [
    {
     "name": "stdout",
     "output_type": "stream",
     "text": [
      "env: HOME=C:\\Users\\USER\\Documents\\GitHub\n"
     ]
    }
   ],
   "source": [
    "#Set the home path\n",
    "\n",
    "%env HOME=C:\\Users\\USER\\Documents\\GitHub\n",
    "homedir = os.getenv(\"HOME\")\n",
    "tabledir = homedir+'/Virgo/tables/'\n",
    "plotdir = homedir+'/Virgo/plots/'\n",
    "datadir = homedir+'/HTML-building/galaxy/'"
   ]
  },
  {
   "cell_type": "code",
   "execution_count": 4,
   "id": "d1e9768e",
   "metadata": {},
   "outputs": [],
   "source": [
    "import numpy as np\n",
    "from matplotlib import pyplot as plt\n",
    "import os\n",
    "from astropy.table import Table\n",
    "from astropy.io import ascii\n",
    "import glob\n",
    "from astropy.io import fits\n",
    "import wget\n",
    "import matplotlib.image as mpimg\n",
    "from astropy.wcs import WCS\n",
    "from scipy.stats import scoreatpercentile\n",
    "from astropy.visualization import simple_norm\n",
    "from reproject import reproject_interp\n",
    "import sys\n",
    "from IPython.display import clear_output\n"
   ]
  },
  {
   "cell_type": "code",
   "execution_count": 5,
   "id": "04177dac",
   "metadata": {},
   "outputs": [],
   "source": [
    "class GalPage():\n",
    "    def __init__(self,galaxy_index=None, page_name=None, catalog=None, \n",
    "                 local_path=None, path_to_galhtml=None, LS_cutout_folder=None, \n",
    "                 fits_folder=None, homepage_name=None, test=True):\n",
    "        \n",
    "        self.galaxy_index = int(galaxy_index)\n",
    "        self.catalog = catalog\n",
    "        \n",
    "        self.homepage_name = homepage_name\n",
    "        self.local_path = local_path\n",
    "        self.LS_cutouts = LS_cutout_folder\n",
    "        self.fits_folder = fits_folder\n",
    "        self.path_to_galhtml = path_to_galhtml\n",
    "        \n",
    "        self.RA = str(self.catalog['RA_1'][self.galaxy_index])\n",
    "        self.DEC = str(self.catalog['DEC_1'][self.galaxy_index])\n",
    "        self.VFID = str(self.catalog['VFID'][self.galaxy_index])\n",
    "        self.objname = str(self.catalog['group_name'][self.galaxy_index])   #group name is proxy for objname; if galaxy is not in group, group_name=objname\n",
    "        \n",
    "        self.page_name = self.VFID+'.html'   #name of galaxy html page\n",
    "        \n",
    "        if not test:\n",
    "            self.gal_htmlpath = self.path_to_galhtml+self.page_name\n",
    "        if test:\n",
    "            self.gal_htmlpath = os.getenv(\"HOME\")+'/'+self.page_name\n",
    "            \n",
    "                        \n",
    "        #need w3 header information and w3, w1 image data\n",
    "        path_to_gal = glob.glob(self.fits_folder+self.objname+'-custom-image-W3.fits')[0]\n",
    "        \n",
    "        \n",
    "        self.wise_im, self.wise_header = fits.getdata(path_to_w3, header=True)\n",
    "        \n",
    "          \n",
    "        #WCS header information\n",
    "        self.wcs_w3 = WCS(self.wise_header)\n",
    "        "
   ]
  },
  {
   "cell_type": "code",
   "execution_count": 10,
   "id": "91996068",
   "metadata": {
    "scrolled": true
   },
   "outputs": [
    {
     "name": "stdout",
     "output_type": "stream",
     "text": [
      "HTML code has been written to output.html\n"
     ]
    }
   ],
   "source": [
    "# Open the HTML file in write mode\n",
    "with open(\"output.html\", \"w\") as html:\n",
    "    # Write the HTML code line by line\n",
    "    html.write('<html><body>\\n')\n",
    "    html.write('<title>Herschel images</title>\\n')\n",
    "    html.write('<style type=\"text/css\">\\n')\n",
    "    html.write('table, td, th {padding: 5px; text-align: center; border: 2px solid black;}\\n')\n",
    "    html.write('p {display: inline-block;;}\\n')\n",
    "    html.write('</style>\\n')\n",
    "    html.write('<table><tr><th>VFID</th><th>Name</th><th>Legacy image</th><th>Herschel-UnimapBlue (70microns)</th><th>Herschel-UnimapBlue (100microns)</th><th>Herschel-UnimapRed (160microns)</th><th>RA</th><th>DEC</th></tr></p>')\n",
    "    galaxy = Table.read(tabledir+'/Photometrytesting.csv')\n",
    "    for i in range(len(galaxy)):\n",
    "        galaxy_name = str(galaxy['GALAXY'][i])\n",
    "        path = datadir + '\\\\pipeline\\\\' + galaxy_name\n",
    "        VFID = str(galaxy['VFID'][i])\n",
    "        RA = str(galaxy['RA_MOMENT'][i])\n",
    "        DEC = str(galaxy['DEC_MOMENT'][i])\n",
    "        if os.path.exists(path):\n",
    "            html.write('<tr><td><a href=\"galaxy/html/'+VFID+'-'+galaxy_name+'.html\">'+VFID+'</td><td>'+galaxy_name+'</td><td><a href=\"galaxy/png/'+VFID+'-'+galaxy_name+'-LS.jpg\"><img src=\"galaxy/png/'+VFID+'-'+galaxy_name+'-LS.jpg\" alt=\"No LS data.jpg\" height=\"auto\" width=\"100%\"></a></td><td><a href=\"galaxy/png/'+VFID+'-'+galaxy_name+'blue.png\"><img src=\"galaxy/png/'+VFID+'-'+galaxy_name+'blue.png\" alt=\"Missing file 70microns.jpg\" height=\"auto\" width=\"100%\"></a></td><td><a href=\"galaxy/png/'+VFID+'-'+galaxy_name+'green.png\"><img src=\"galaxy/png/'+VFID+'-'+galaxy_name+'green.png\" alt=\"Missing file 100microns.jpg\" height=\"auto\" width=\"100%\"></a></td><td><a href=\"galaxy/png/'+VFID+'-'+galaxy_name+'red.png\"><img src=\"galaxy/png/'+VFID+'-'+galaxy_name+'red.png\" alt=\"Missing file 160microns.jpg\" height=\"auto\" width=\"100%\"></a></td><td>'+RA+'</td><td>'+DEC+'</td></tr> \\n')\n",
    "        else:\n",
    "            continue\n",
    "    html.write('</tr></table>\\n')\n",
    "    html.write('<br /><br />\\n')\n",
    "    html.write('</html></body>\\n')\n",
    "    html.close()\n",
    "print(\"HTML code has been written to output.html\")"
   ]
  },
  {
   "cell_type": "code",
   "execution_count": null,
   "id": "f1951b0c",
   "metadata": {},
   "outputs": [],
   "source": [
    "galaxy = Table.read(tabledir+'/Photometrytesting.csv')\n",
    "for i in range(len(galaxy)):\n",
    "    galaxy_name = str(galaxy['GALAXY'][i])\n",
    "    path = datadir + '\\\\pipeline\\\\' + galaxy_name\n",
    "    VFID = str(galaxy['VFID'][i])\n",
    "    RA = str(galaxy['RA_MOMENT'][i])\n",
    "    DEC = str(galaxy['DEC_MOMENT'][i])\n",
    "    filepath = 'galaxy/html/'+VFID+'-'+galaxy_name+'.html'\n",
    "    # Write the HTML code line by line\n",
    "    with open(filepath, \"w\") as html:\n",
    "        html.write('<html><body>\\n')\n",
    "        html.write('<title>Photometry data</title>\\n')\n",
    "        html.write('<style type=\"text/css\">\\n')\n",
    "        html.write('table, td, th {padding: 5px; text-align: center; border: 2px solid black;}\\n')\n",
    "        html.write('p {display: inline-block;;}\\n')\n",
    "        html.write('</style>\\n')\n",
    "        html.write('<table><tr><th>VFID</th><th>Name</th><th>Legacy image</th><th>Herschel-UnimapBlue (70microns)</th><th>Herschel-UnimapBlue (100microns)</th><th>Herschel-UnimapRed (160microns)</th><th>RA</th><th>DEC</th></tr></p>')\n",
    "        if os.path.exists(path):\n",
    "            html.write('<tr><td><a href=\"galaxy/html/'+VFID+'-'+galaxy_name+'.html\">'+VFID+'</td><td>'+galaxy_name+'</td><td><a href=\"galaxy/png/'+VFID+'-'+galaxy_name+'-LS.jpg\"><img src=\"galaxy/png/'+VFID+'-'+galaxy_name+'-LS.jpg\" alt=\"No LS data.jpg\" height=\"auto\" width=\"100%\"></a></td><td><a href=\"galaxy/png/'+VFID+'-'+galaxy_name+'blue.png\"><img src=\"galaxy/png/'+VFID+'-'+galaxy_name+'blue.png\" alt=\"Missing file 70microns.jpg\" height=\"auto\" width=\"100%\"></a></td><td><a href=\"galaxy/png/'+VFID+'-'+galaxy_name+'green.png\"><img src=\"galaxy/png/'+VFID+'-'+galaxy_name+'green.png\" alt=\"Missing file 100microns.jpg\" height=\"auto\" width=\"100%\"></a></td><td><a href=\"galaxy/png/'+VFID+'-'+galaxy_name+'red.png\"><img src=\"galaxy/png/'+VFID+'-'+galaxy_name+'red.png\" alt=\"Missing file 160microns.jpg\" height=\"auto\" width=\"100%\"></a></td><td>'+RA+'</td><td>'+DEC+'</td></tr> \\n')\n",
    "        else:\n",
    "            continue\n",
    "        html.write('</tr></table>\\n')\n",
    "        html.write('<br /><br />\\n')\n",
    "        html.write('</html></body>\\n')\n",
    "        html.close()\n",
    "print(\"done\")"
   ]
  }
 ],
 "metadata": {
  "kernelspec": {
   "display_name": "Python 3 (ipykernel)",
   "language": "python",
   "name": "python3"
  },
  "language_info": {
   "codemirror_mode": {
    "name": "ipython",
    "version": 3
   },
   "file_extension": ".py",
   "mimetype": "text/x-python",
   "name": "python",
   "nbconvert_exporter": "python",
   "pygments_lexer": "ipython3",
   "version": "3.11.7"
  }
 },
 "nbformat": 4,
 "nbformat_minor": 5
}
