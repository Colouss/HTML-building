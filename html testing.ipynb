{
 "cells": [
  {
   "cell_type": "code",
   "execution_count": 14,
   "id": "67fdd9ac",
   "metadata": {},
   "outputs": [],
   "source": [
    "#Import the necessary packages\n",
    "\n",
    "from astropy.table import Table\n",
    "from matplotlib import pyplot as plt\n",
    "%matplotlib inline\n",
    "import os\n",
    "import numpy as np\n",
    "from astropy.io.ascii import masked\n",
    "\n",
    "import warnings\n",
    "warnings.filterwarnings('ignore')\n",
    "\n",
    "mycolors = plt.rcParams['axes.prop_cycle'].by_key()['color']"
   ]
  },
  {
   "cell_type": "code",
   "execution_count": 18,
   "id": "161e23b2",
   "metadata": {},
   "outputs": [
    {
     "name": "stdout",
     "output_type": "stream",
     "text": [
      "env: HOME=C:\\Users\\USER\\Documents\\GitHub\\HTML-building\n"
     ]
    }
   ],
   "source": [
    "#Set the home path\n",
    "\n",
    "%env HOME=C:\\Users\\USER\\Documents\\GitHub\\HTML-building\n",
    "homedir = os.getenv(\"HOME\")"
   ]
  },
  {
   "cell_type": "code",
   "execution_count": 3,
   "id": "195d99dc",
   "metadata": {},
   "outputs": [],
   "source": [
    "import numpy as np\n",
    "from matplotlib import pyplot as plt\n",
    "import os\n",
    "from astropy.table import Table\n",
    "from astropy.io import ascii\n",
    "import glob\n",
    "from astropy.io import fits\n",
    "import wget\n",
    "import matplotlib.image as mpimg\n",
    "from astropy.wcs import WCS\n",
    "from scipy.stats import scoreatpercentile\n",
    "from astropy.visualization import simple_norm\n",
    "from reproject import reproject_interp\n",
    "import sys\n",
    "from IPython.display import clear_output\n"
   ]
  },
  {
   "cell_type": "code",
   "execution_count": 16,
   "id": "b1948090",
   "metadata": {},
   "outputs": [],
   "source": [
    "    def compile_LS_cutouts(self):\n",
    "        \n",
    "        pixscale=1   #standard\n",
    "        pscale=np.abs(float(self.wise_header['CD1_1']))   #grab transformation matrix of WISE image\n",
    "        xsize=np.abs(int(self.wise_header['NAXIS1']))   #grab length of WISE image\n",
    "        xsize_arcsec=pscale*3600*xsize   #length convert to arcseconds\n",
    "        imsize=int(xsize_arcsec/pixscale)   #convert length to an integer\n",
    "        imsize=str(imsize)   #convert integer length to a...string\n",
    "        \n",
    "        self.filename_LS = self.LS_cutouts+self.VFID+'-LS.jpg'\n",
    "        \n",
    "        image_url = f'https://www.legacysurvey.org/viewer/cutout.jpg?ra={self.RA}&dec={self.DEC}&layer=ls-dr9&size={imsize}&pixscale={1}'\n",
    "        if os.path.exists(self.filename_LS):\n",
    "            os.remove(self.filename_LS)\n",
    "            image = wget.download(image_url,out=self.filename_LS)\n",
    "        else:\n",
    "            image = wget.download(image_url,out=self.filename_LS)\n",
    "    \n",
    "    def create_LS_mosaics(self):\n",
    "        \n",
    "        #first must be sure that r-band is projected onto w3 coordinates (ensures all images have same size)\n",
    "        #r_scaled, footprint = reproject_interp((self.r_im, self.r_header), self.wise_header)\n",
    "\n",
    "        titles = ['W3 Image', 'W1 Image', 'LS Image']\n",
    "        images = [self.wise_im, self.w1_im, self.filename_LS]\n",
    "        \n",
    "        try:\n",
    "            bool_masks = [self.w3_mask_bool, self.w1_mask_bool, None]\n",
    "        except:\n",
    "            bool_masks = [np.zeros(self.wise_im.shape)+1, \n",
    "                          np.zeros(self.w1_im.shape)+1, None]\n",
    "            print(f'{self.VFID} has no mask images.')\n",
    "        \n",
    "        plt.figure(figsize=(12,6))\n",
    "        for i,im in enumerate(images):\n",
    "            plt.xlabel('RA')\n",
    "            if (i==0)|(i==1):\n",
    "                if i==0:\n",
    "                    plt.subplot(1,len(images),i+1,projection = self.wcs_w3)\n",
    "                if i==1:\n",
    "                    plt.subplot(1,len(images),i+1,projection = self.wcs_w1)\n",
    "                try:\n",
    "                    norm = simple_norm(images[i]*bool_masks[i],stretch='asinh',max_percent=99.9)\n",
    "                    plt.imshow(images[i],origin='lower',cmap='viridis',norm=norm)\n",
    "                except:\n",
    "                    norm = simple_norm(self.w1_im,stretch='asinh',max_percent=99.9)\n",
    "                    plt.imshow(self.w1_im,origin='lower',cmap='viridis',norm=norm)\n",
    "                plt.ylabel('DEC')\n",
    "                ax = plt.gca()\n",
    "                ax.set_yticks([])\n",
    "            \n",
    "            if i==2:\n",
    "                plt.subplot(1,len(images),i+1)\n",
    "                plt.imshow(mpimg.imread(images[i]),origin='lower')\n",
    "                plt.gca().invert_yaxis()\n",
    "                plt.axis(\"off\")\n",
    "\n",
    "            plt.subplots_adjust(wspace=0,hspace=0)\n",
    "            plt.title(titles[i],fontsize=24)\n",
    "        \n",
    "        if os.path.exists(self.LS_mosaics+self.VFID+'-LS-mosaic.png'):\n",
    "            os.remove(self.LS_mosaics+self.VFID+'-LS-mosaic.png')\n",
    "            plt.savefig(self.LS_mosaics+self.VFID+'-LS-mosaic.png',bbox_inches = 'tight',pad_inches=0.2)\n",
    "        else:\n",
    "            plt.savefig(self.LS_mosaics+self.VFID+'-LS-mosaic.png',bbox_inches='tight',pad_inches=0.2)\n",
    "        plt.close()"
   ]
  },
  {
   "cell_type": "code",
   "execution_count": 13,
   "id": "929f9cea",
   "metadata": {},
   "outputs": [
    {
     "name": "stdout",
     "output_type": "stream",
     "text": [
      "HTML code has been written to output.html\n"
     ]
    }
   ],
   "source": [
    "# Open the HTML file in write mode\n",
    "with open(\"output.html\", \"w\") as html:\n",
    "    # Write the HTML code line by line\n",
    "    html.write('<html><body>\\n')\n",
    "    html.write('<title>Virgo WISESize Project</title>\\n')\n",
    "    html.write('<style type=\"text/css\">\\n')\n",
    "    html.write('table, td, th {padding: 5px; text-align: center; border: 2px solid black;}\\n')\n",
    "    html.write('p {display: inline-block;;}\\n')\n",
    "    html.write('</style>\\n')\n",
    "    html.write('<table><tr><th>VFID</th><th>Legacy image</th><th>Prefix</th><th>RA</th><th>DEC</th>\\n')\n",
    "    html.write('</tr></table>\\n')\n",
    "    html.write('<br /><br />\\n')\n",
    "    html.write('</html></body>\\n')\n",
    "    html.close()\n",
    "print(\"HTML code has been written to output.html\")\n"
   ]
  },
  {
   "cell_type": "code",
   "execution_count": null,
   "id": "83e30028",
   "metadata": {},
   "outputs": [],
   "source": [
    "Current task : \n",
    "    get all of the fits images from the HST first\n",
    "    Understanding the wise_header and how to link it to my images"
   ]
  }
 ],
 "metadata": {
  "kernelspec": {
   "display_name": "Python 3 (ipykernel)",
   "language": "python",
   "name": "python3"
  },
  "language_info": {
   "codemirror_mode": {
    "name": "ipython",
    "version": 3
   },
   "file_extension": ".py",
   "mimetype": "text/x-python",
   "name": "python",
   "nbconvert_exporter": "python",
   "pygments_lexer": "ipython3",
   "version": "3.11.4"
  }
 },
 "nbformat": 4,
 "nbformat_minor": 5
}
